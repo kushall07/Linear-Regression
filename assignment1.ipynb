{
  "nbformat": 4,
  "nbformat_minor": 0,
  "metadata": {
    "colab": {
      "name": "assignment1.ipynb",
      "version": "0.3.2",
      "provenance": []
    },
    "kernelspec": {
      "name": "python3",
      "display_name": "Python 3"
    }
  },
  "cells": [
    {
      "cell_type": "code",
      "metadata": {
        "id": "4iwbHkv4wvaO",
        "colab_type": "code",
        "colab": {}
      },
      "source": [
        "import numpy as np \n",
        "import tensorflow as tf \n",
        "import matplotlib.pyplot as plt "
      ],
      "execution_count": 0,
      "outputs": []
    },
    {
      "cell_type": "code",
      "metadata": {
        "id": "kELYYeDNw4ML",
        "colab_type": "code",
        "colab": {}
      },
      "source": [
        "np.random.seed(101) \n",
        "tf.set_random_seed(101) "
      ],
      "execution_count": 0,
      "outputs": []
    },
    {
      "cell_type": "code",
      "metadata": {
        "id": "rBi58Uufw792",
        "colab_type": "code",
        "colab": {}
      },
      "source": [
        "# Genrating random linear data \n",
        "# There will be 50 data points ranging from 0 to 50 \n",
        "x = np.linspace(0, 50, 50) \n",
        "y = np.linspace(0, 50, 50) \n",
        "  \n",
        "# Adding noise to the random linear data \n",
        "x += np.random.uniform(-4, 4, 50) \n",
        "y += np.random.uniform(-4, 4, 50) \n",
        "  \n",
        "n = len(x) # Number of data points "
      ],
      "execution_count": 0,
      "outputs": []
    },
    {
      "cell_type": "code",
      "metadata": {
        "id": "14JhHyFrw_wS",
        "colab_type": "code",
        "outputId": "a574cb35-e058-4f07-ea9b-bd99ad5146b6",
        "colab": {
          "base_uri": "https://localhost:8080/",
          "height": 295
        }
      },
      "source": [
        "# Plot of Training Data \n",
        "plt.scatter(x, y) \n",
        "plt.xlabel('x') \n",
        "plt.xlabel('y') \n",
        "plt.title(\"Training Data\") \n",
        "plt.show() "
      ],
      "execution_count": 0,
      "outputs": [
        {
          "output_type": "display_data",
          "data": {
            "image/png": "[encoded data removed]",
            "text/plain": [
              "<Figure size 432x288 with 1 Axes>"
            ]
          },
          "metadata": {
            "tags": []
          }
        }
      ]
    },
    {
      "cell_type": "code",
      "metadata": {
        "id": "JGy4EeQIxHBw",
        "colab_type": "code",
        "colab": {}
      },
      "source": [
        "X = tf.placeholder(\"float\") \n",
        "Y = tf.placeholder(\"float\") "
      ],
      "execution_count": 0,
      "outputs": []
    },
    {
      "cell_type": "code",
      "metadata": {
        "id": "0LixL-iBxKEN",
        "colab_type": "code",
        "outputId": "39625801-7d75-4dd0-83dc-78bafb16a204",
        "colab": {
          "base_uri": "https://localhost:8080/",
          "height": 87
        }
      },
      "source": [
        "W = tf.Variable(np.random.randn(), name = \"W\") \n",
        "b = tf.Variable(np.random.randn(), name = \"b\") \n"
      ],
      "execution_count": 0,
      "outputs": [
        {
          "output_type": "stream",
          "text": [
            "WARNING:tensorflow:From /usr/local/lib/python3.6/dist-packages/tensorflow/python/framework/op_def_library.py:263: colocate_with (from tensorflow.python.framework.ops) is deprecated and will be removed in a future version.\n",
            "Instructions for updating:\n",
            "Colocations handled automatically by placer.\n"
          ],
          "name": "stdout"
        }
      ]
    },
    {
      "cell_type": "code",
      "metadata": {
        "id": "RsPyj5BWxNgA",
        "colab_type": "code",
        "colab": {}
      },
      "source": [
        "learning_rate = 0.01\n",
        "training_epochs = 1000"
      ],
      "execution_count": 0,
      "outputs": []
    },
    {
      "cell_type": "code",
      "metadata": {
        "id": "q81P4MZkxRU0",
        "colab_type": "code",
        "outputId": "c47b003c-6fe1-4b5a-a3f7-973af34340f6",
        "colab": {
          "base_uri": "https://localhost:8080/",
          "height": 87
        }
      },
      "source": [
        "# Hypothesis \n",
        "y_pred = tf.add(tf.multiply(X, W), b) \n",
        "  \n",
        "# Mean Squared Error Cost Function \n",
        "cost = tf.reduce_sum(tf.pow(y_pred-Y, 2)) / (2 * n) \n",
        "  \n",
        "# Gradient Descent Optimizer \n",
        "optimizer = tf.train.GradientDescentOptimizer(learning_rate).minimize(cost) \n",
        "  \n",
        "# Global Variables Initializer \n",
        "init = tf.global_variables_initializer() \n"
      ],
      "execution_count": 0,
      "outputs": [
        {
          "output_type": "stream",
          "text": [
            "WARNING:tensorflow:From /usr/local/lib/python3.6/dist-packages/tensorflow/python/ops/math_ops.py:3066: to_int32 (from tensorflow.python.ops.math_ops) is deprecated and will be removed in a future version.\n",
            "Instructions for updating:\n",
            "Use tf.cast instead.\n"
          ],
          "name": "stdout"
        }
      ]
    },
    {
      "cell_type": "code",
      "metadata": {
        "id": "uzUkinuExUSW",
        "colab_type": "code",
        "outputId": "d655ae2e-2195-4af2-8b74-ad21903299c2",
        "colab": {
          "base_uri": "https://localhost:8080/",
          "height": 353
        }
      },
      "source": [
        "# Starting the Tensorflow Session \n",
        "with tf.Session() as sess: \n",
        "      \n",
        "    # Initializing the Variables \n",
        "    sess.run(init) \n",
        "      \n",
        "    # Iterating through all the epochs \n",
        "    for epoch in range(training_epochs): \n",
        "          \n",
        "        # Feeding each data point into the optimizer using Feed Dictionary \n",
        "        for (_x, _y) in zip(x, y): \n",
        "            sess.run(optimizer, feed_dict = {X : _x, Y : _y}) \n",
        "          \n",
        "        # Displaying the result after every 50 epochs \n",
        "        if (epoch + 1) % 50 == 0: \n",
        "            # Calculating the cost a every epoch \n",
        "            c = sess.run(cost, feed_dict = {X : x, Y : y}) \n",
        "            print(\"Epoch\", (epoch + 1), \": cost =\", c, \"W =\", sess.run(W), \"b =\", sess.run(b)) \n",
        "      \n",
        "    # Storing necessary values to be used outside the Session \n",
        "    training_cost = sess.run(cost, feed_dict ={X: x, Y: y}) \n",
        "    weight = sess.run(W) \n",
        "    bias = sess.run(b) "
      ],
      "execution_count": 0,
      "outputs": [
        {
          "output_type": "stream",
          "text": [
            "Epoch 50 : cost = 5.886804 W = 0.9951241 b = 1.2381054\n",
            "Epoch 100 : cost = 5.7912707 W = 0.99812365 b = 1.0914398\n",
            "Epoch 150 : cost = 5.7119684 W = 1.0008028 b = 0.96044314\n",
            "Epoch 200 : cost = 5.6459413 W = 1.0031956 b = 0.8434396\n",
            "Epoch 250 : cost = 5.5907993 W = 1.0053328 b = 0.73893565\n",
            "Epoch 300 : cost = 5.544605 W = 1.0072418 b = 0.6455924\n",
            "Epoch 350 : cost = 5.5057893 W = 1.008947 b = 0.56222016\n",
            "Epoch 400 : cost = 5.473066 W = 1.01047 b = 0.48775372\n",
            "Epoch 450 : cost = 5.445385 W = 1.0118302 b = 0.42124188\n",
            "Epoch 500 : cost = 5.4219036 W = 1.0130452 b = 0.36183503\n",
            "Epoch 550 : cost = 5.4019217 W = 1.0141305 b = 0.3087744\n",
            "Epoch 600 : cost = 5.3848577 W = 1.0150996 b = 0.26138142\n",
            "Epoch 650 : cost = 5.370246 W = 1.0159653 b = 0.21905117\n",
            "Epoch 700 : cost = 5.3576994 W = 1.0167387 b = 0.18124233\n",
            "Epoch 750 : cost = 5.346891 W = 1.0174292 b = 0.14747268\n",
            "Epoch 800 : cost = 5.337558 W = 1.0180461 b = 0.11730959\n",
            "Epoch 850 : cost = 5.3294754 W = 1.0185971 b = 0.09036876\n",
            "Epoch 900 : cost = 5.322459 W = 1.0190892 b = 0.06630599\n",
            "Epoch 950 : cost = 5.3163586 W = 1.0195289 b = 0.044813465\n",
            "Epoch 1000 : cost = 5.3110337 W = 1.0199214 b = 0.02561676\n"
          ],
          "name": "stdout"
        }
      ]
    },
    {
      "cell_type": "code",
      "metadata": {
        "id": "qmVnM-cLxXgK",
        "colab_type": "code",
        "outputId": "e1129c14-2053-494c-c6ba-61498b329e22",
        "colab": {
          "base_uri": "https://localhost:8080/",
          "height": 50
        }
      },
      "source": [
        "# Calculating the predictions \n",
        "predictions = weight * x + bias \n",
        "print(\"Training cost =\", training_cost, \"Weight =\", weight, \"bias =\", bias, '\\n') \n"
      ],
      "execution_count": 0,
      "outputs": [
        {
          "output_type": "stream",
          "text": [
            "Training cost = 5.3110337 Weight = 1.0199214 bias = 0.02561676 \n",
            "\n"
          ],
          "name": "stdout"
        }
      ]
    },
    {
      "cell_type": "code",
      "metadata": {
        "id": "zfSQLR8JxeGB",
        "colab_type": "code",
        "outputId": "1fa057b1-e58a-4ed0-9113-6ab37cbe87cb",
        "colab": {
          "base_uri": "https://localhost:8080/",
          "height": 281
        }
      },
      "source": [
        "# Plotting the Results \n",
        "plt.plot(x, y, 'ro', label ='Original data') \n",
        "plt.plot(x, predictions, label ='Fitted line') \n",
        "plt.title('Linear Regression Result') \n",
        "plt.legend() \n",
        "plt.show() "
      ],
      "execution_count": 0,
      "outputs": [
        {
          "output_type": "display_data",
          "data": {
            "image/png": "[encoded data removed]",
            "text/plain": [
              "<Figure size 432x288 with 1 Axes>"
            ]
          },
          "metadata": {
            "tags": []
          }
        }
      ]
    },
    {
      "cell_type": "code",
      "metadata": {
        "id": "iYavULzwxha8",
        "colab_type": "code",
        "colab": {}
      },
      "source": [
        ""
      ],
      "execution_count": 0,
      "outputs": []
    }
  ]
}